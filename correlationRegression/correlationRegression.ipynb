{
 "cells": [
  {
   "cell_type": "markdown",
   "metadata": {},
   "source": [
    "Here are the test scores of 10 students in physics and history:\n",
    "\n",
    "Physics Scores  15  12  8   8   7   7   7   6   5   3\n",
    "History Scores  10  25  17  11  13  17  20  13  9   15\n",
    "When a student scores 10 in Physics, what is his probable score in History? Compute the answer correct to one decimal place.\n",
    "\n",
    "Output Format\n",
    "\n",
    "In the text box, enter the floating point/decimal value required. Do not leave any leading or trailing spaces. Your answer may look like: 5.5\n",
    "\n",
    "This is NOT the actual answer - just the format in which you should provide your answer."
   ]
  },
  {
   "cell_type": "code",
   "execution_count": null,
   "metadata": {},
   "outputs": [],
   "source": [
    "# Data for Physics and History scores\n",
    "physics_scores = [15, 12, 8, 8, 7, 7, 7, 6, 5, 3]  # Features (x)\n",
    "history_scores = [10, 25, 17, 11, 13, 17, 20, 13, 9, 15]  # Targets (y)\n",
    "\n",
    "# Compute necessary summations\n",
    "n = len(physics_scores)\n",
    "sum_x = sum(physics_scores)\n",
    "sum_y = sum(history_scores)\n",
    "sum_xy = sum(x * y for x, y in zip(physics_scores, history_scores))\n",
    "sum_x_squared = sum(x ** 2 for x in physics_scores)\n",
    "\n",
    "# Compute slope (m) and intercept (c)\n",
    "m = (n * sum_xy - sum_x * sum_y) / (n * sum_x_squared - sum_x ** 2)\n",
    "c = (sum_y - m * sum_x) / n\n",
    "\n",
    "# Predict History score for a Physics score of 10\n",
    "x_predict = int(input())\n",
    "y_predict = m * x_predict + c\n",
    "\n",
    "# Print the result formatted to one decimal place\n",
    "print(f\"{y_predict:.1f}\")\n"
   ]
  }
 ],
 "metadata": {
  "kernelspec": {
   "display_name": ".venv",
   "language": "python",
   "name": "python3"
  },
  "language_info": {
   "codemirror_mode": {
    "name": "ipython",
    "version": 3
   },
   "file_extension": ".py",
   "mimetype": "text/x-python",
   "name": "python",
   "nbconvert_exporter": "python",
   "pygments_lexer": "ipython3",
   "version": "3.11.6"
  }
 },
 "nbformat": 4,
 "nbformat_minor": 2
}
