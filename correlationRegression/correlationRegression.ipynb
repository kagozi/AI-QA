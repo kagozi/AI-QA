{
 "cells": [
  {
   "cell_type": "markdown",
   "metadata": {},
   "source": [
    "Here are the test scores of 10 students in physics and history:\n",
    "\n",
    "Physics Scores  15  12  8   8   7   7   7   6   5   3\n",
    "History Scores  10  25  17  11  13  17  20  13  9   15\n",
    "When a student scores 10 in Physics, what is his probable score in History? Compute the answer correct to one decimal place.\n",
    "\n",
    "Output Format\n",
    "\n",
    "In the text box, enter the floating point/decimal value required. Do not leave any leading or trailing spaces. Your answer may look like: 5.5\n",
    "\n",
    "This is NOT the actual answer - just the format in which you should provide your answer."
   ]
  },
  {
   "cell_type": "code",
   "execution_count": 2,
   "metadata": {},
   "outputs": [
    {
     "name": "stdout",
     "output_type": "stream",
     "text": [
      "15.5\n"
     ]
    }
   ],
   "source": [
    "import sys\n",
    "# Data for Physics and History scores\n",
    "physics_scores = [15, 12, 8, 8, 7, 7, 7, 6, 5, 3]  # Features (x)\n",
    "history_scores = [10, 25, 17, 11, 13, 17, 20, 13, 9, 15]  # Targets (y)\n",
    "\n",
    "# Compute necessary summations\n",
    "n = len(physics_scores)  # Number of data points\n",
    "sum_x = sum(physics_scores)  # Sum of all x values\n",
    "sum_y = sum(history_scores)  # Sum of all y values\n",
    "sum_xy = sum(x * y for x, y in zip(physics_scores, history_scores))  # Sum of x*y for each pair\n",
    "sum_x_squared = sum(x ** 2 for x in physics_scores)  # Sum of x^2 for each x value\n",
    "\n",
    "# Compute slope (m) and intercept (c)\n",
    "try:\n",
    "    m = (n * sum_xy - sum_x * sum_y) / (n * sum_x_squared - sum_x ** 2)  # Slope\n",
    "    c = (sum_y - m * sum_x) / n  # Intercept\n",
    "except ZeroDivisionError:\n",
    "    print(\"Error: Division by zero, likely caused by degenerate data (e.g., no variance in x values)\")\n",
    "    sys.exit(1)\n",
    "\n",
    "# Predict History score for a Physics score of 10\n",
    "x_predict = 10\n",
    "y_predict = m * x_predict + c\n",
    "\n",
    "# Print the result formatted to one decimal place\n",
    "print(f\"{y_predict:.1f}\")"
   ]
  },
  {
   "cell_type": "markdown",
   "metadata": {},
   "source": [
    "The two regression lines of a bivariate distribution are:\n",
    "4 – 5 + 33 = 0 (line of y on x) 20 – 9 – 107 = 0 (line of x on y).\n",
    "Estimate the value of  when  = 7. Compute the correct answer to one decimal place.\n",
    "\n",
    "Output Format\n",
    "In the text box, enter the floating point/decimal value required. Do not lead any leading or trailing spaces. Your answer may look like: 7.2\n",
    "\n",
    "This is NOT the actual answer - just the format in which you should provide your answer."
   ]
  },
  {
   "cell_type": "code",
   "execution_count": null,
   "metadata": {},
   "outputs": [],
   "source": [
    "# Enter your code here. Read input from STDIN. Print output to STDOUT\n",
    "# Given regression line of y on x: 4y - 5x + 33 = 0\n",
    "# Rearranged equation: y = (5x - 33) / 4\n",
    "import sys\n",
    "# Function to estimate the value of y when x = 7\n",
    "def estimate_y(x):\n",
    "    try:\n",
    "        y = (5 * x - 33) / 4\n",
    "        return round(y, 1)  # Return the result rounded to one decimal place\n",
    "    except ZeroDivisionError:\n",
    "        print(\"Error: Division by zero, likely caused by degenerate data (e.g., no variance in x values)\")\n",
    "        sys.exit(1)\n",
    "\n",
    "# Given x = 7\n",
    "x_value = float(input())\n",
    "result = estimate_y(x_value)\n",
    "\n",
    "# Output the result\n",
    "print(result)\n"
   ]
  }
 ],
 "metadata": {
  "kernelspec": {
   "display_name": ".venv",
   "language": "python",
   "name": "python3"
  },
  "language_info": {
   "codemirror_mode": {
    "name": "ipython",
    "version": 3
   },
   "file_extension": ".py",
   "mimetype": "text/x-python",
   "name": "python",
   "nbconvert_exporter": "python",
   "pygments_lexer": "ipython3",
   "version": "3.11.6"
  }
 },
 "nbformat": 4,
 "nbformat_minor": 2
}
